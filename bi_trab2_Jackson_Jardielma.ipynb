{
  "nbformat": 4,
  "nbformat_minor": 0,
  "metadata": {
    "colab": {
      "name": "bi-trab2-codigo.ipynb",
      "provenance": [],
      "collapsed_sections": []
    },
    "kernelspec": {
      "name": "python3",
      "display_name": "Python 3"
    }
  },
  "cells": [
    {
      "cell_type": "markdown",
      "metadata": {
        "id": "c2gWbSl6aH7O",
        "colab_type": "text"
      },
      "source": [
        "# **Trabalho 2 de Inteligência de Negócios (BI) <br>**\n",
        "**Orientadora:** Kelly A. S. Gazolli <br>\n",
        "**Alunos:** Jackson W. S. Agostinho e Jardielma Q. De Lima"
      ]
    },
    {
      "cell_type": "markdown",
      "metadata": {
        "id": "1b636DH_mJrA",
        "colab_type": "text"
      },
      "source": [
        "## **Importa bibliotecas**"
      ]
    },
    {
      "cell_type": "code",
      "metadata": {
        "id": "286qePArtPkn",
        "colab_type": "code",
        "colab": {}
      },
      "source": [
        "import pandas as pd\n",
        "import numpy as np\n",
        "from sklearn.preprocessing import StandardScaler  \n",
        "from sklearn.model_selection import StratifiedKFold\n",
        "from sklearn.neighbors import KNeighborsClassifier\n",
        "from sklearn import svm\n",
        "from sklearn.metrics import confusion_matrix"
      ],
      "execution_count": null,
      "outputs": []
    },
    {
      "cell_type": "markdown",
      "metadata": {
        "id": "Gwb7SqWumUjC",
        "colab_type": "text"
      },
      "source": [
        "## **Carrega dataset**\n"
      ]
    },
    {
      "cell_type": "code",
      "metadata": {
        "id": "iLl3HvySs3_F",
        "colab_type": "code",
        "colab": {}
      },
      "source": [
        "dataset_heart_pd = pd.read_csv(filepath_or_buffer=\"https://raw.githubusercontent.com/jacksonwillian/inputdata-trab2/master/heart.csv\", delimiter=\",\" )\n"
      ],
      "execution_count": null,
      "outputs": []
    },
    {
      "cell_type": "markdown",
      "metadata": {
        "id": "Ix1-UwT8eRrF",
        "colab_type": "text"
      },
      "source": [
        "**Resumo do dataset**\n",
        "\n",
        "303 linhas registros, 13 colunas atributos(primeiras) e 1 coluna rótulo(última).\n",
        "\n",
        "De 303 registros de paciente, 138 rótulos 0 (não) e 165 rótulos 1 (sim) para o diagnóstico de ataque cardíaco.\n",
        "\n"
      ]
    },
    {
      "cell_type": "code",
      "metadata": {
        "id": "nB6w4pgKeRDn",
        "colab_type": "code",
        "colab": {
          "base_uri": "https://localhost:8080/",
          "height": 415
        },
        "outputId": "7df5b2af-d2d1-41f4-fa98-adc5de486ee7"
      },
      "source": [
        "dataset_heart_pd"
      ],
      "execution_count": null,
      "outputs": [
        {
          "output_type": "execute_result",
          "data": {
            "text/html": [
              "<div>\n",
              "<style scoped>\n",
              "    .dataframe tbody tr th:only-of-type {\n",
              "        vertical-align: middle;\n",
              "    }\n",
              "\n",
              "    .dataframe tbody tr th {\n",
              "        vertical-align: top;\n",
              "    }\n",
              "\n",
              "    .dataframe thead th {\n",
              "        text-align: right;\n",
              "    }\n",
              "</style>\n",
              "<table border=\"1\" class=\"dataframe\">\n",
              "  <thead>\n",
              "    <tr style=\"text-align: right;\">\n",
              "      <th></th>\n",
              "      <th>age</th>\n",
              "      <th>sex</th>\n",
              "      <th>cp</th>\n",
              "      <th>trestbps</th>\n",
              "      <th>chol</th>\n",
              "      <th>fbs</th>\n",
              "      <th>restecg</th>\n",
              "      <th>thalach</th>\n",
              "      <th>exang</th>\n",
              "      <th>oldpeak</th>\n",
              "      <th>slope</th>\n",
              "      <th>ca</th>\n",
              "      <th>thal</th>\n",
              "      <th>target</th>\n",
              "    </tr>\n",
              "  </thead>\n",
              "  <tbody>\n",
              "    <tr>\n",
              "      <th>0</th>\n",
              "      <td>63</td>\n",
              "      <td>1</td>\n",
              "      <td>3</td>\n",
              "      <td>145</td>\n",
              "      <td>233</td>\n",
              "      <td>1</td>\n",
              "      <td>0</td>\n",
              "      <td>150</td>\n",
              "      <td>0</td>\n",
              "      <td>2.3</td>\n",
              "      <td>0</td>\n",
              "      <td>0</td>\n",
              "      <td>1</td>\n",
              "      <td>1</td>\n",
              "    </tr>\n",
              "    <tr>\n",
              "      <th>1</th>\n",
              "      <td>37</td>\n",
              "      <td>1</td>\n",
              "      <td>2</td>\n",
              "      <td>130</td>\n",
              "      <td>250</td>\n",
              "      <td>0</td>\n",
              "      <td>1</td>\n",
              "      <td>187</td>\n",
              "      <td>0</td>\n",
              "      <td>3.5</td>\n",
              "      <td>0</td>\n",
              "      <td>0</td>\n",
              "      <td>2</td>\n",
              "      <td>1</td>\n",
              "    </tr>\n",
              "    <tr>\n",
              "      <th>2</th>\n",
              "      <td>41</td>\n",
              "      <td>0</td>\n",
              "      <td>1</td>\n",
              "      <td>130</td>\n",
              "      <td>204</td>\n",
              "      <td>0</td>\n",
              "      <td>0</td>\n",
              "      <td>172</td>\n",
              "      <td>0</td>\n",
              "      <td>1.4</td>\n",
              "      <td>2</td>\n",
              "      <td>0</td>\n",
              "      <td>2</td>\n",
              "      <td>1</td>\n",
              "    </tr>\n",
              "    <tr>\n",
              "      <th>3</th>\n",
              "      <td>56</td>\n",
              "      <td>1</td>\n",
              "      <td>1</td>\n",
              "      <td>120</td>\n",
              "      <td>236</td>\n",
              "      <td>0</td>\n",
              "      <td>1</td>\n",
              "      <td>178</td>\n",
              "      <td>0</td>\n",
              "      <td>0.8</td>\n",
              "      <td>2</td>\n",
              "      <td>0</td>\n",
              "      <td>2</td>\n",
              "      <td>1</td>\n",
              "    </tr>\n",
              "    <tr>\n",
              "      <th>4</th>\n",
              "      <td>57</td>\n",
              "      <td>0</td>\n",
              "      <td>0</td>\n",
              "      <td>120</td>\n",
              "      <td>354</td>\n",
              "      <td>0</td>\n",
              "      <td>1</td>\n",
              "      <td>163</td>\n",
              "      <td>1</td>\n",
              "      <td>0.6</td>\n",
              "      <td>2</td>\n",
              "      <td>0</td>\n",
              "      <td>2</td>\n",
              "      <td>1</td>\n",
              "    </tr>\n",
              "    <tr>\n",
              "      <th>...</th>\n",
              "      <td>...</td>\n",
              "      <td>...</td>\n",
              "      <td>...</td>\n",
              "      <td>...</td>\n",
              "      <td>...</td>\n",
              "      <td>...</td>\n",
              "      <td>...</td>\n",
              "      <td>...</td>\n",
              "      <td>...</td>\n",
              "      <td>...</td>\n",
              "      <td>...</td>\n",
              "      <td>...</td>\n",
              "      <td>...</td>\n",
              "      <td>...</td>\n",
              "    </tr>\n",
              "    <tr>\n",
              "      <th>298</th>\n",
              "      <td>57</td>\n",
              "      <td>0</td>\n",
              "      <td>0</td>\n",
              "      <td>140</td>\n",
              "      <td>241</td>\n",
              "      <td>0</td>\n",
              "      <td>1</td>\n",
              "      <td>123</td>\n",
              "      <td>1</td>\n",
              "      <td>0.2</td>\n",
              "      <td>1</td>\n",
              "      <td>0</td>\n",
              "      <td>3</td>\n",
              "      <td>0</td>\n",
              "    </tr>\n",
              "    <tr>\n",
              "      <th>299</th>\n",
              "      <td>45</td>\n",
              "      <td>1</td>\n",
              "      <td>3</td>\n",
              "      <td>110</td>\n",
              "      <td>264</td>\n",
              "      <td>0</td>\n",
              "      <td>1</td>\n",
              "      <td>132</td>\n",
              "      <td>0</td>\n",
              "      <td>1.2</td>\n",
              "      <td>1</td>\n",
              "      <td>0</td>\n",
              "      <td>3</td>\n",
              "      <td>0</td>\n",
              "    </tr>\n",
              "    <tr>\n",
              "      <th>300</th>\n",
              "      <td>68</td>\n",
              "      <td>1</td>\n",
              "      <td>0</td>\n",
              "      <td>144</td>\n",
              "      <td>193</td>\n",
              "      <td>1</td>\n",
              "      <td>1</td>\n",
              "      <td>141</td>\n",
              "      <td>0</td>\n",
              "      <td>3.4</td>\n",
              "      <td>1</td>\n",
              "      <td>2</td>\n",
              "      <td>3</td>\n",
              "      <td>0</td>\n",
              "    </tr>\n",
              "    <tr>\n",
              "      <th>301</th>\n",
              "      <td>57</td>\n",
              "      <td>1</td>\n",
              "      <td>0</td>\n",
              "      <td>130</td>\n",
              "      <td>131</td>\n",
              "      <td>0</td>\n",
              "      <td>1</td>\n",
              "      <td>115</td>\n",
              "      <td>1</td>\n",
              "      <td>1.2</td>\n",
              "      <td>1</td>\n",
              "      <td>1</td>\n",
              "      <td>3</td>\n",
              "      <td>0</td>\n",
              "    </tr>\n",
              "    <tr>\n",
              "      <th>302</th>\n",
              "      <td>57</td>\n",
              "      <td>0</td>\n",
              "      <td>1</td>\n",
              "      <td>130</td>\n",
              "      <td>236</td>\n",
              "      <td>0</td>\n",
              "      <td>0</td>\n",
              "      <td>174</td>\n",
              "      <td>0</td>\n",
              "      <td>0.0</td>\n",
              "      <td>1</td>\n",
              "      <td>1</td>\n",
              "      <td>2</td>\n",
              "      <td>0</td>\n",
              "    </tr>\n",
              "  </tbody>\n",
              "</table>\n",
              "<p>303 rows × 14 columns</p>\n",
              "</div>"
            ],
            "text/plain": [
              "     age  sex  cp  trestbps  chol  fbs  ...  exang  oldpeak  slope  ca  thal  target\n",
              "0     63    1   3       145   233    1  ...      0      2.3      0   0     1       1\n",
              "1     37    1   2       130   250    0  ...      0      3.5      0   0     2       1\n",
              "2     41    0   1       130   204    0  ...      0      1.4      2   0     2       1\n",
              "3     56    1   1       120   236    0  ...      0      0.8      2   0     2       1\n",
              "4     57    0   0       120   354    0  ...      1      0.6      2   0     2       1\n",
              "..   ...  ...  ..       ...   ...  ...  ...    ...      ...    ...  ..   ...     ...\n",
              "298   57    0   0       140   241    0  ...      1      0.2      1   0     3       0\n",
              "299   45    1   3       110   264    0  ...      0      1.2      1   0     3       0\n",
              "300   68    1   0       144   193    1  ...      0      3.4      1   2     3       0\n",
              "301   57    1   0       130   131    0  ...      1      1.2      1   1     3       0\n",
              "302   57    0   1       130   236    0  ...      0      0.0      1   1     2       0\n",
              "\n",
              "[303 rows x 14 columns]"
            ]
          },
          "metadata": {
            "tags": []
          },
          "execution_count": 52
        }
      ]
    },
    {
      "cell_type": "markdown",
      "metadata": {
        "id": "K8hRfMVneltU",
        "colab_type": "text"
      },
      "source": [
        "**Estatística do dataset** [[Ref](https://pandas.pydata.org/pandas-docs/stable/reference/api/pandas.DataFrame.describe.html)]"
      ]
    },
    {
      "cell_type": "code",
      "metadata": {
        "id": "cXNydTRIeeLd",
        "colab_type": "code",
        "colab": {
          "base_uri": "https://localhost:8080/",
          "height": 294
        },
        "outputId": "248fa127-d905-498c-e06b-b56b70b1e9f4"
      },
      "source": [
        "dataset_heart_pd.describe().round(2)"
      ],
      "execution_count": null,
      "outputs": [
        {
          "output_type": "execute_result",
          "data": {
            "text/html": [
              "<div>\n",
              "<style scoped>\n",
              "    .dataframe tbody tr th:only-of-type {\n",
              "        vertical-align: middle;\n",
              "    }\n",
              "\n",
              "    .dataframe tbody tr th {\n",
              "        vertical-align: top;\n",
              "    }\n",
              "\n",
              "    .dataframe thead th {\n",
              "        text-align: right;\n",
              "    }\n",
              "</style>\n",
              "<table border=\"1\" class=\"dataframe\">\n",
              "  <thead>\n",
              "    <tr style=\"text-align: right;\">\n",
              "      <th></th>\n",
              "      <th>age</th>\n",
              "      <th>sex</th>\n",
              "      <th>cp</th>\n",
              "      <th>trestbps</th>\n",
              "      <th>chol</th>\n",
              "      <th>fbs</th>\n",
              "      <th>restecg</th>\n",
              "      <th>thalach</th>\n",
              "      <th>exang</th>\n",
              "      <th>oldpeak</th>\n",
              "      <th>slope</th>\n",
              "      <th>ca</th>\n",
              "      <th>thal</th>\n",
              "      <th>target</th>\n",
              "    </tr>\n",
              "  </thead>\n",
              "  <tbody>\n",
              "    <tr>\n",
              "      <th>count</th>\n",
              "      <td>303.00</td>\n",
              "      <td>303.00</td>\n",
              "      <td>303.00</td>\n",
              "      <td>303.00</td>\n",
              "      <td>303.00</td>\n",
              "      <td>303.00</td>\n",
              "      <td>303.00</td>\n",
              "      <td>303.00</td>\n",
              "      <td>303.00</td>\n",
              "      <td>303.00</td>\n",
              "      <td>303.00</td>\n",
              "      <td>303.00</td>\n",
              "      <td>303.00</td>\n",
              "      <td>303.00</td>\n",
              "    </tr>\n",
              "    <tr>\n",
              "      <th>mean</th>\n",
              "      <td>54.37</td>\n",
              "      <td>0.68</td>\n",
              "      <td>0.97</td>\n",
              "      <td>131.62</td>\n",
              "      <td>246.26</td>\n",
              "      <td>0.15</td>\n",
              "      <td>0.53</td>\n",
              "      <td>149.65</td>\n",
              "      <td>0.33</td>\n",
              "      <td>1.04</td>\n",
              "      <td>1.40</td>\n",
              "      <td>0.73</td>\n",
              "      <td>2.31</td>\n",
              "      <td>0.54</td>\n",
              "    </tr>\n",
              "    <tr>\n",
              "      <th>std</th>\n",
              "      <td>9.08</td>\n",
              "      <td>0.47</td>\n",
              "      <td>1.03</td>\n",
              "      <td>17.54</td>\n",
              "      <td>51.83</td>\n",
              "      <td>0.36</td>\n",
              "      <td>0.53</td>\n",
              "      <td>22.91</td>\n",
              "      <td>0.47</td>\n",
              "      <td>1.16</td>\n",
              "      <td>0.62</td>\n",
              "      <td>1.02</td>\n",
              "      <td>0.61</td>\n",
              "      <td>0.50</td>\n",
              "    </tr>\n",
              "    <tr>\n",
              "      <th>min</th>\n",
              "      <td>29.00</td>\n",
              "      <td>0.00</td>\n",
              "      <td>0.00</td>\n",
              "      <td>94.00</td>\n",
              "      <td>126.00</td>\n",
              "      <td>0.00</td>\n",
              "      <td>0.00</td>\n",
              "      <td>71.00</td>\n",
              "      <td>0.00</td>\n",
              "      <td>0.00</td>\n",
              "      <td>0.00</td>\n",
              "      <td>0.00</td>\n",
              "      <td>0.00</td>\n",
              "      <td>0.00</td>\n",
              "    </tr>\n",
              "    <tr>\n",
              "      <th>25%</th>\n",
              "      <td>47.50</td>\n",
              "      <td>0.00</td>\n",
              "      <td>0.00</td>\n",
              "      <td>120.00</td>\n",
              "      <td>211.00</td>\n",
              "      <td>0.00</td>\n",
              "      <td>0.00</td>\n",
              "      <td>133.50</td>\n",
              "      <td>0.00</td>\n",
              "      <td>0.00</td>\n",
              "      <td>1.00</td>\n",
              "      <td>0.00</td>\n",
              "      <td>2.00</td>\n",
              "      <td>0.00</td>\n",
              "    </tr>\n",
              "    <tr>\n",
              "      <th>50%</th>\n",
              "      <td>55.00</td>\n",
              "      <td>1.00</td>\n",
              "      <td>1.00</td>\n",
              "      <td>130.00</td>\n",
              "      <td>240.00</td>\n",
              "      <td>0.00</td>\n",
              "      <td>1.00</td>\n",
              "      <td>153.00</td>\n",
              "      <td>0.00</td>\n",
              "      <td>0.80</td>\n",
              "      <td>1.00</td>\n",
              "      <td>0.00</td>\n",
              "      <td>2.00</td>\n",
              "      <td>1.00</td>\n",
              "    </tr>\n",
              "    <tr>\n",
              "      <th>75%</th>\n",
              "      <td>61.00</td>\n",
              "      <td>1.00</td>\n",
              "      <td>2.00</td>\n",
              "      <td>140.00</td>\n",
              "      <td>274.50</td>\n",
              "      <td>0.00</td>\n",
              "      <td>1.00</td>\n",
              "      <td>166.00</td>\n",
              "      <td>1.00</td>\n",
              "      <td>1.60</td>\n",
              "      <td>2.00</td>\n",
              "      <td>1.00</td>\n",
              "      <td>3.00</td>\n",
              "      <td>1.00</td>\n",
              "    </tr>\n",
              "    <tr>\n",
              "      <th>max</th>\n",
              "      <td>77.00</td>\n",
              "      <td>1.00</td>\n",
              "      <td>3.00</td>\n",
              "      <td>200.00</td>\n",
              "      <td>564.00</td>\n",
              "      <td>1.00</td>\n",
              "      <td>2.00</td>\n",
              "      <td>202.00</td>\n",
              "      <td>1.00</td>\n",
              "      <td>6.20</td>\n",
              "      <td>2.00</td>\n",
              "      <td>4.00</td>\n",
              "      <td>3.00</td>\n",
              "      <td>1.00</td>\n",
              "    </tr>\n",
              "  </tbody>\n",
              "</table>\n",
              "</div>"
            ],
            "text/plain": [
              "          age     sex      cp  trestbps  ...   slope      ca    thal  target\n",
              "count  303.00  303.00  303.00    303.00  ...  303.00  303.00  303.00  303.00\n",
              "mean    54.37    0.68    0.97    131.62  ...    1.40    0.73    2.31    0.54\n",
              "std      9.08    0.47    1.03     17.54  ...    0.62    1.02    0.61    0.50\n",
              "min     29.00    0.00    0.00     94.00  ...    0.00    0.00    0.00    0.00\n",
              "25%     47.50    0.00    0.00    120.00  ...    1.00    0.00    2.00    0.00\n",
              "50%     55.00    1.00    1.00    130.00  ...    1.00    0.00    2.00    1.00\n",
              "75%     61.00    1.00    2.00    140.00  ...    2.00    1.00    3.00    1.00\n",
              "max     77.00    1.00    3.00    200.00  ...    2.00    4.00    3.00    1.00\n",
              "\n",
              "[8 rows x 14 columns]"
            ]
          },
          "metadata": {
            "tags": []
          },
          "execution_count": 53
        }
      ]
    },
    {
      "cell_type": "markdown",
      "metadata": {
        "id": "khqDCaewe4RH",
        "colab_type": "text"
      },
      "source": [
        "## **Converte dataset de *DataFrame* para a *NumPy* array** [[Ref](https://pandas.pydata.org/pandas-docs/stable/reference/api/pandas.DataFrame.to_numpy.html)]\n",
        "\n",
        "Optou-se pela conversão somente porque acreditamos ser mais entendível serapar os atributos e rótulos através dos índices do array."
      ]
    },
    {
      "cell_type": "code",
      "metadata": {
        "id": "W37sFfLZtOas",
        "colab_type": "code",
        "colab": {
          "base_uri": "https://localhost:8080/",
          "height": 139
        },
        "outputId": "279097aa-5bf1-4578-8be1-89c6ff474257"
      },
      "source": [
        "dataset_heart_np = dataset_heart_pd.to_numpy()\n",
        "dataset_heart_np"
      ],
      "execution_count": null,
      "outputs": [
        {
          "output_type": "execute_result",
          "data": {
            "text/plain": [
              "array([[63.,  1.,  3., ...,  0.,  1.,  1.],\n",
              "       [37.,  1.,  2., ...,  0.,  2.,  1.],\n",
              "       [41.,  0.,  1., ...,  0.,  2.,  1.],\n",
              "       ...,\n",
              "       [68.,  1.,  0., ...,  2.,  3.,  0.],\n",
              "       [57.,  1.,  0., ...,  1.,  3.,  0.],\n",
              "       [57.,  0.,  1., ...,  1.,  2.,  0.]])"
            ]
          },
          "metadata": {
            "tags": []
          },
          "execution_count": 54
        }
      ]
    },
    {
      "cell_type": "markdown",
      "metadata": {
        "id": "IcyUlcQcmOaq",
        "colab_type": "text"
      },
      "source": [
        "## **Divide dataset em arrays de atributos (X) e rótulos (y)**\n",
        "A variável `X` recebe os valores dos atributos. Isto `[0:, 0:-1]` indica todas as linhas do array e todas as colunas desconsiderando a última.\n",
        "<br>\n",
        "A variável `y` recebe os valores dos rótulos. Isto `[0:,-1]` indica todas as linhas do array e somente a última coluna.\n"
      ]
    },
    {
      "cell_type": "code",
      "metadata": {
        "id": "bqEs-cW5mLka",
        "colab_type": "code",
        "colab": {
          "base_uri": "https://localhost:8080/",
          "height": 433
        },
        "outputId": "f5700ac0-75c3-47ef-9589-99baa5012ed6"
      },
      "source": [
        "X = dataset_heart_np[0:, 0:-1]\n",
        "y = dataset_heart_np[0:,-1]\n",
        "\n",
        "print(\"Atributos:\\n{}\\n\\n\\nRótulos:\\n{}\".format(X, y))"
      ],
      "execution_count": null,
      "outputs": [
        {
          "output_type": "stream",
          "text": [
            "Atributos:\n",
            "[[63.  1.  3. ...  0.  0.  1.]\n",
            " [37.  1.  2. ...  0.  0.  2.]\n",
            " [41.  0.  1. ...  2.  0.  2.]\n",
            " ...\n",
            " [68.  1.  0. ...  1.  2.  3.]\n",
            " [57.  1.  0. ...  1.  1.  3.]\n",
            " [57.  0.  1. ...  1.  1.  2.]]\n",
            "\n",
            "\n",
            "Rótulos:\n",
            "[1. 1. 1. 1. 1. 1. 1. 1. 1. 1. 1. 1. 1. 1. 1. 1. 1. 1. 1. 1. 1. 1. 1. 1.\n",
            " 1. 1. 1. 1. 1. 1. 1. 1. 1. 1. 1. 1. 1. 1. 1. 1. 1. 1. 1. 1. 1. 1. 1. 1.\n",
            " 1. 1. 1. 1. 1. 1. 1. 1. 1. 1. 1. 1. 1. 1. 1. 1. 1. 1. 1. 1. 1. 1. 1. 1.\n",
            " 1. 1. 1. 1. 1. 1. 1. 1. 1. 1. 1. 1. 1. 1. 1. 1. 1. 1. 1. 1. 1. 1. 1. 1.\n",
            " 1. 1. 1. 1. 1. 1. 1. 1. 1. 1. 1. 1. 1. 1. 1. 1. 1. 1. 1. 1. 1. 1. 1. 1.\n",
            " 1. 1. 1. 1. 1. 1. 1. 1. 1. 1. 1. 1. 1. 1. 1. 1. 1. 1. 1. 1. 1. 1. 1. 1.\n",
            " 1. 1. 1. 1. 1. 1. 1. 1. 1. 1. 1. 1. 1. 1. 1. 1. 1. 1. 1. 1. 1. 0. 0. 0.\n",
            " 0. 0. 0. 0. 0. 0. 0. 0. 0. 0. 0. 0. 0. 0. 0. 0. 0. 0. 0. 0. 0. 0. 0. 0.\n",
            " 0. 0. 0. 0. 0. 0. 0. 0. 0. 0. 0. 0. 0. 0. 0. 0. 0. 0. 0. 0. 0. 0. 0. 0.\n",
            " 0. 0. 0. 0. 0. 0. 0. 0. 0. 0. 0. 0. 0. 0. 0. 0. 0. 0. 0. 0. 0. 0. 0. 0.\n",
            " 0. 0. 0. 0. 0. 0. 0. 0. 0. 0. 0. 0. 0. 0. 0. 0. 0. 0. 0. 0. 0. 0. 0. 0.\n",
            " 0. 0. 0. 0. 0. 0. 0. 0. 0. 0. 0. 0. 0. 0. 0. 0. 0. 0. 0. 0. 0. 0. 0. 0.\n",
            " 0. 0. 0. 0. 0. 0. 0. 0. 0. 0. 0. 0. 0. 0. 0.]\n"
          ],
          "name": "stdout"
        }
      ]
    },
    {
      "cell_type": "markdown",
      "metadata": {
        "id": "EVBL96Oi32ge",
        "colab_type": "text"
      },
      "source": [
        "## **Padronização da escala dos dados** [[Ref](https://scikit-learn.org/stable/modules/generated/sklearn.preprocessing.StandardScaler.html)]\n",
        "\n",
        "A `StandardScaler()` permite a transformação de escala dos valores dos dados.\n",
        "<br>\n",
        "A função `fit()` recebe dados de entrada e encontra o cálculo da transformação.\n",
        "<br>\n",
        "A função `transform()` recebe dados de entrada e aplica a transformação.\n",
        "<br>\n",
        "Transforma os valores do dataset para forma com média próxima de zero e um desvio padrão próximo a um."
      ]
    },
    {
      "cell_type": "code",
      "metadata": {
        "id": "1GhhgsGRp4_L",
        "colab_type": "code",
        "colab": {
          "base_uri": "https://localhost:8080/",
          "height": 243
        },
        "outputId": "ad47e278-d10b-41f9-cddf-3c2f84bd93e1"
      },
      "source": [
        "scaler = StandardScaler()  \n",
        "scaler.fit(X)\n",
        "\n",
        "X = scaler.transform(X)  \n",
        "print(X)"
      ],
      "execution_count": null,
      "outputs": [
        {
          "output_type": "stream",
          "text": [
            "[[ 0.9521966   0.68100522  1.97312292 ... -2.27457861 -0.71442887\n",
            "  -2.14887271]\n",
            " [-1.91531289  0.68100522  1.00257707 ... -2.27457861 -0.71442887\n",
            "  -0.51292188]\n",
            " [-1.47415758 -1.46841752  0.03203122 ...  0.97635214 -0.71442887\n",
            "  -0.51292188]\n",
            " ...\n",
            " [ 1.50364073  0.68100522 -0.93851463 ... -0.64911323  1.24459328\n",
            "   1.12302895]\n",
            " [ 0.29046364  0.68100522 -0.93851463 ... -0.64911323  0.26508221\n",
            "   1.12302895]\n",
            " [ 0.29046364 -1.46841752  0.03203122 ... -0.64911323  0.26508221\n",
            "  -0.51292188]]\n"
          ],
          "name": "stdout"
        }
      ]
    },
    {
      "cell_type": "markdown",
      "metadata": {
        "id": "hOrZT5SxvWAy",
        "colab_type": "text"
      },
      "source": [
        "## **KFold (k=5) Divisão Dos Dados Treino/Teste**\n",
        "\n",
        "Cada índice de divisão de dados treino/teste são salvos em uma lista, então essa mesma lista será utilizada por todos os modelos."
      ]
    },
    {
      "cell_type": "code",
      "metadata": {
        "id": "LKSQB4zrv6pk",
        "colab_type": "code",
        "colab": {}
      },
      "source": [
        "# k = 5\n",
        "kfold = 5\n",
        "# instância kfold\n",
        "skfold = StratifiedKFold(n_splits=kfold, shuffle=True, random_state=42)\n",
        "# gera os índices kfold\n",
        "skfold_indexs = skfold.split(X, y)\n",
        "# lista de índices de treino/teste\n",
        "list_train_test_skfold = []\n",
        "for train_index, test_index in skfold_indexs:\n",
        "  list_train_test_skfold.append( tuple([train_index, test_index]))\n",
        " "
      ],
      "execution_count": null,
      "outputs": []
    },
    {
      "cell_type": "markdown",
      "metadata": {
        "id": "UTSBwCFjURkz",
        "colab_type": "text"
      },
      "source": [
        "## **Treinamento e Teste de modelos**"
      ]
    },
    {
      "cell_type": "code",
      "metadata": {
        "id": "8HyF7tvnVNw-",
        "colab_type": "code",
        "colab": {}
      },
      "source": [
        "\n",
        "def matrix_to_str(matrix):\n",
        "  '''\n",
        "  Função\n",
        "  ----\n",
        "  Transforma a matriz de lista para texto \\n\n",
        "\n",
        "  Parâmetro\n",
        "  ----\n",
        "  matrix <- Lista de lista matriz \\n\n",
        "\n",
        "  Retorno\n",
        "  ----\n",
        "  str_matrix -> Matriz no formato de string\n",
        "  ''' \n",
        "  # gambiarra: para adicionar os rótulos na matriz de confusão de formato texto\n",
        "  labels = [\"0: não\", \"1: sim\"] # 1= sim; 0 = não\n",
        "  str_matrix = \"{:<4} {:<4}  {:<4}\\n\".format(0, 1, \"<- classified as\")\n",
        "  for i in range (len(matrix)):\n",
        "    for j in range (len(matrix[0])):\n",
        "      str_matrix += \"{:<4} \".format(matrix[i][j])\n",
        "    str_matrix += \"    {:<4}\\n\".format(labels[i])\n",
        "  return str_matrix\n",
        "\n",
        "\n",
        "def sum_of_matrices(accumulated_matrix, partial_matrix):\n",
        "  '''\n",
        "  Função\n",
        "  ----\n",
        "  Soma duas matrizes lista de listas \\n\n",
        "\n",
        "  Parâmetro\n",
        "  ----\n",
        "  accumulated_matrix <- Lista de lista matriz acumulada \\n\n",
        "  partial_matrix <- Lista de lista matriz parcial \\n\n",
        "\n",
        "  Retorno\n",
        "  ----\n",
        "  accumulated_matrix -> Lista de lista matriz acumulada atualizada\n",
        "  '''   \n",
        "  if accumulated_matrix == []:\n",
        "    accumulated_matrix = partial_matrix[:]\n",
        "  else:\n",
        "    for i in range ( len(partial_matrix) ):\n",
        "      for j in range ( len(partial_matrix[0]) ):\n",
        "        element = accumulated_matrix[i][j] + partial_matrix[i][j]\n",
        "        accumulated_matrix[i][j] = element\n",
        "  return accumulated_matrix\n",
        "\n",
        "\n",
        "def training_and_test(model, X, y, list_train_test_skfold):\n",
        "  '''\n",
        "  Função\n",
        "  ----\n",
        "  Treina e testa o modelo e gera as matrizes de confusão e as métricas \\n\n",
        "\n",
        "  Parâmetro\n",
        "  ----\n",
        "  model <- Instância do modelo \\n\n",
        "  X <- Array de dados atributo \\n\n",
        "  y <- Array de dados rótulo \\n\n",
        "  list_train_test_skfold <- Lista de indices do kfold \\n\n",
        "\n",
        "  Retorno\n",
        "  ----\n",
        "  dic_result -> Dicionário com as matrizes de confusão e as métricas\n",
        "  '''  \n",
        "\n",
        "  # cria matriz acumulada,lista de acurácia e string das matrizes parciais\n",
        "  accumulated_matrix = []\n",
        "  list_accuracy = []\n",
        "  str_partial_matrices = \"\"\n",
        "  n_fold = 0\n",
        "\n",
        "  # para cada divisão de treino e teste do Kfold\n",
        "  for train_index, test_index in list_train_test_skfold:\n",
        "    \n",
        "    # quantidade de divisão\n",
        "    n_fold += 1\n",
        "\n",
        "    # dados treino e teste \n",
        "    X_train, X_test = X[train_index], X[test_index]\n",
        "    y_train, y_test = y[train_index], y[test_index]\n",
        "\n",
        "    # treinamento\n",
        "    model.fit(X_train, y_train)\n",
        "\n",
        "    # teste\n",
        "    y_pred = model.predict(X_test)\n",
        "\n",
        "    # cria e converte matriz de confusão\n",
        "    # labels define a ordem dos elementos de linha e coluna na matriz\n",
        "    conf_matrix = confusion_matrix(y_test, y_pred, labels=[0, 1]) \n",
        "    partial_matrix = conf_matrix.tolist()\n",
        "    \n",
        "    # soma das matrizes acumulada e parcial\n",
        "    accumulated_matrix = sum_of_matrices(accumulated_matrix ,partial_matrix)\n",
        "\n",
        "    # calcula acurácia\n",
        "    numerator = partial_matrix[0][0] + partial_matrix[1][1]\n",
        "    denominador = partial_matrix[0][0] + partial_matrix[0][1] + partial_matrix[1][0] + partial_matrix[1][1]\n",
        "    accuracy =  numerator / denominador    \n",
        "    list_accuracy.append(accuracy)\n",
        "\n",
        "    # converte matriz para texto e concatena\n",
        "    str_partial_matrices += matrix_to_str(partial_matrix) + \"\\n\"\n",
        "    \n",
        "  # média acurácia\n",
        "  metric_accuracy = sum( list_accuracy ) / n_fold\n",
        "\n",
        "  # calcula revocação\n",
        "  numerator = accumulated_matrix[1][1] \n",
        "  denominador = accumulated_matrix[1][0] + accumulated_matrix[1][1]\n",
        "  metric_recall =  numerator / denominador\n",
        "\n",
        "  # calcula precisão\n",
        "  numerator = accumulated_matrix[1][1] \n",
        "  denominador = accumulated_matrix[0][1] + accumulated_matrix[1][1]\n",
        "  metric_precision =  numerator / denominador\n",
        "\n",
        "  # converte matriz para texto\n",
        "  str_accumulated_matrix = matrix_to_str(accumulated_matrix)\n",
        "\n",
        "  dic_result = {\"model\": model,\n",
        "                \"accumulated_matrix\": accumulated_matrix,\n",
        "                \"str_accumulated_matrix\": str_accumulated_matrix,\n",
        "                \"str_partial_matrices\": str_partial_matrices,\n",
        "                \"accuracy\": metric_accuracy, \n",
        "                \"precision\": metric_precision,\n",
        "                \"recall\": metric_recall}\n",
        "\n",
        "  return dic_result\n",
        "\n",
        "\n",
        "def view_result(dic_result, full=True):\n",
        "  '''\n",
        "  Função\n",
        "  ----\n",
        "  Mostra os resultados do testes \\n\n",
        "\n",
        "  Parâmetro\n",
        "  ----\n",
        "  dic_result <- Dicionário de resultado com a matrizes e métricas \\n\n",
        "  full <- Flag para mostrar o resultado completo \\n\n",
        "\n",
        "  Retorno\n",
        "  ----\n",
        "  Nulo\n",
        "  '''  \n",
        "  if full:\n",
        "    print(\"Matrizes parciais\\n\")\n",
        "    print(dic_result[\"str_partial_matrices\"])\n",
        "\n",
        "  print(\"Matriz acumulada\\n\")\n",
        "  print(dic_result[\"str_accumulated_matrix\"])\n",
        "\n",
        "  print(\"\\nMétricas\\n\")\n",
        "  print(\"Acurácia: {:.3f}\".format(dic_result[\"accuracy\"]))\n",
        "  print(\"Revocação: {:.3f}\".format(dic_result[\"recall\"]))\n",
        "  print(\"Precisão: {:.3f}\".format(dic_result[\"precision\"]))\n",
        "\n",
        "  return None"
      ],
      "execution_count": null,
      "outputs": []
    },
    {
      "cell_type": "markdown",
      "metadata": {
        "id": "DV0bXy-aoVty",
        "colab_type": "text"
      },
      "source": [
        "## **Criação dos modelos e visualização dos resultados**"
      ]
    },
    {
      "cell_type": "markdown",
      "metadata": {
        "id": "jrM54ZbrBLx8",
        "colab_type": "text"
      },
      "source": [
        "Define dicionário de métricas utilizado para preencher os dados do gráfico.\n",
        "\n"
      ]
    },
    {
      "cell_type": "code",
      "metadata": {
        "id": "VO-IeDhdaoLb",
        "colab_type": "code",
        "colab": {}
      },
      "source": [
        "# indice 0 da lista: accuracy\n",
        "# indice 1 da lista: recall\n",
        "# indice 2 da lista: precision\n",
        "dic_metrics = {'knn=3':[0,0,0],\n",
        "               'knn=5':[0,0,0],\n",
        "               'knn=7':[0,0,0],\n",
        "               'knn=9':[0,0,0],\n",
        "               'svm=linear':[0,0,0],\n",
        "               'svm=rbf':[0,0,0]}"
      ],
      "execution_count": null,
      "outputs": []
    },
    {
      "cell_type": "markdown",
      "metadata": {
        "id": "2sx8PTzTqqSr",
        "colab_type": "text"
      },
      "source": [
        "### **K Nearest Neighbor (KNN)**"
      ]
    },
    {
      "cell_type": "markdown",
      "metadata": {
        "id": "wh9R8PvJpzSZ",
        "colab_type": "text"
      },
      "source": [
        "**KNN (K=3)**"
      ]
    },
    {
      "cell_type": "code",
      "metadata": {
        "id": "pvkk1CTdVU_2",
        "colab_type": "code",
        "colab": {
          "base_uri": "https://localhost:8080/",
          "height": 624
        },
        "outputId": "44d8cc5e-666c-44f8-8969-dab9ed443e66"
      },
      "source": [
        "k = 3\n",
        "knn_model = KNeighborsClassifier(n_neighbors=k)\n",
        "list_train_test_skfold\n",
        "result = training_and_test(knn_model, X, y, list_train_test_skfold)\n",
        "view_result(result, True)\n",
        "dic_metrics['knn=3'][0] = result[\"accuracy\"]\n",
        "dic_metrics['knn=3'][1] = result[\"recall\"]\n",
        "dic_metrics['knn=3'][2] = result[\"precision\"]"
      ],
      "execution_count": null,
      "outputs": [
        {
          "output_type": "stream",
          "text": [
            "Matrizes parciais\n",
            "\n",
            "0    1     <- classified as\n",
            "24   4        0: não\n",
            "4    29       1: sim\n",
            "\n",
            "0    1     <- classified as\n",
            "23   5        0: não\n",
            "4    29       1: sim\n",
            "\n",
            "0    1     <- classified as\n",
            "17   11       0: não\n",
            "6    27       1: sim\n",
            "\n",
            "0    1     <- classified as\n",
            "21   6        0: não\n",
            "6    27       1: sim\n",
            "\n",
            "0    1     <- classified as\n",
            "18   9        0: não\n",
            "2    31       1: sim\n",
            "\n",
            "\n",
            "Matriz acumulada\n",
            "\n",
            "0    1     <- classified as\n",
            "103  35       0: não\n",
            "22   143      1: sim\n",
            "\n",
            "\n",
            "Métricas\n",
            "\n",
            "Acurácia: 0.812\n",
            "Revocação: 0.867\n",
            "Precisão: 0.803\n"
          ],
          "name": "stdout"
        }
      ]
    },
    {
      "cell_type": "markdown",
      "metadata": {
        "id": "JFmGbvlsqGFG",
        "colab_type": "text"
      },
      "source": [
        "**KNN (K=5)**"
      ]
    },
    {
      "cell_type": "code",
      "metadata": {
        "id": "RF0g4AECjyf2",
        "colab_type": "code",
        "colab": {
          "base_uri": "https://localhost:8080/",
          "height": 225
        },
        "outputId": "63f3ae8e-25fc-4dbd-948a-d112a3d5d37d"
      },
      "source": [
        "k = 5\n",
        "knn_model = KNeighborsClassifier(n_neighbors=k)\n",
        "result = training_and_test(knn_model, X, y, list_train_test_skfold)    \n",
        "view_result(result, False)\n",
        "dic_metrics['knn=5'][0] = result[\"accuracy\"]\n",
        "dic_metrics['knn=5'][1] = result[\"recall\"]\n",
        "dic_metrics['knn=5'][2] = result[\"precision\"]"
      ],
      "execution_count": null,
      "outputs": [
        {
          "output_type": "stream",
          "text": [
            "Matriz acumulada\n",
            "\n",
            "0    1     <- classified as\n",
            "98   40       0: não\n",
            "21   144      1: sim\n",
            "\n",
            "\n",
            "Métricas\n",
            "\n",
            "Acurácia: 0.798\n",
            "Revocação: 0.873\n",
            "Precisão: 0.783\n"
          ],
          "name": "stdout"
        }
      ]
    },
    {
      "cell_type": "markdown",
      "metadata": {
        "id": "0M5q9FUqqLN2",
        "colab_type": "text"
      },
      "source": [
        "**KNN (K=7)**"
      ]
    },
    {
      "cell_type": "code",
      "metadata": {
        "id": "F5FJxOoLqOV6",
        "colab_type": "code",
        "colab": {
          "base_uri": "https://localhost:8080/",
          "height": 225
        },
        "outputId": "2ab85a5c-3750-4f4d-e1c1-a5c395134f44"
      },
      "source": [
        "k = 7\n",
        "knn_model = KNeighborsClassifier(n_neighbors=k)\n",
        "result = training_and_test(knn_model, X, y, list_train_test_skfold)    \n",
        "view_result(result, False)\n",
        "dic_metrics['knn=7'][0] = result[\"accuracy\"]\n",
        "dic_metrics['knn=7'][1] = result[\"recall\"]\n",
        "dic_metrics['knn=7'][2] = result[\"precision\"]"
      ],
      "execution_count": null,
      "outputs": [
        {
          "output_type": "stream",
          "text": [
            "Matriz acumulada\n",
            "\n",
            "0    1     <- classified as\n",
            "97   41       0: não\n",
            "18   147      1: sim\n",
            "\n",
            "\n",
            "Métricas\n",
            "\n",
            "Acurácia: 0.805\n",
            "Revocação: 0.891\n",
            "Precisão: 0.782\n"
          ],
          "name": "stdout"
        }
      ]
    },
    {
      "cell_type": "markdown",
      "metadata": {
        "id": "ZRZxoO42qSqa",
        "colab_type": "text"
      },
      "source": [
        "**KNN (K=9)**"
      ]
    },
    {
      "cell_type": "code",
      "metadata": {
        "id": "yl7IDdnkqToq",
        "colab_type": "code",
        "colab": {
          "base_uri": "https://localhost:8080/",
          "height": 225
        },
        "outputId": "e30c374a-4fdd-45a5-b34b-710d5418b1c2"
      },
      "source": [
        "k = 9\n",
        "knn_model = KNeighborsClassifier(n_neighbors=k)\n",
        "result = training_and_test(knn_model, X, y, list_train_test_skfold)    \n",
        "view_result(result, False)\n",
        "dic_metrics['knn=9'][0] = result[\"accuracy\"]\n",
        "dic_metrics['knn=9'][1] = result[\"recall\"]\n",
        "dic_metrics['knn=9'][2] = result[\"precision\"]"
      ],
      "execution_count": null,
      "outputs": [
        {
          "output_type": "stream",
          "text": [
            "Matriz acumulada\n",
            "\n",
            "0    1     <- classified as\n",
            "98   40       0: não\n",
            "18   147      1: sim\n",
            "\n",
            "\n",
            "Métricas\n",
            "\n",
            "Acurácia: 0.808\n",
            "Revocação: 0.891\n",
            "Precisão: 0.786\n"
          ],
          "name": "stdout"
        }
      ]
    },
    {
      "cell_type": "markdown",
      "metadata": {
        "id": "gyykokxMqvGz",
        "colab_type": "text"
      },
      "source": [
        "### **Support Vector Machine (SVM)**"
      ]
    },
    {
      "cell_type": "markdown",
      "metadata": {
        "id": "0LfUQEA8rKZs",
        "colab_type": "text"
      },
      "source": [
        "**SVM (Kernel=Linear)**"
      ]
    },
    {
      "cell_type": "code",
      "metadata": {
        "id": "n4ukx56-q8YQ",
        "colab_type": "code",
        "colab": {
          "base_uri": "https://localhost:8080/",
          "height": 225
        },
        "outputId": "7822a9fe-3118-45cf-f4cf-1c1a723315f0"
      },
      "source": [
        "svm_model = svm.SVC(kernel='linear')\n",
        "result = training_and_test(svm_model, X, y, list_train_test_skfold)    \n",
        "view_result(result, False)\n",
        "dic_metrics['svm=linear'][0] = result[\"accuracy\"]\n",
        "dic_metrics['svm=linear'][1] = result[\"recall\"]\n",
        "dic_metrics['svm=linear'][2] = result[\"precision\"]"
      ],
      "execution_count": null,
      "outputs": [
        {
          "output_type": "stream",
          "text": [
            "Matriz acumulada\n",
            "\n",
            "0    1     <- classified as\n",
            "103  35       0: não\n",
            "13   152      1: sim\n",
            "\n",
            "\n",
            "Métricas\n",
            "\n",
            "Acurácia: 0.842\n",
            "Revocação: 0.921\n",
            "Precisão: 0.813\n"
          ],
          "name": "stdout"
        }
      ]
    },
    {
      "cell_type": "markdown",
      "metadata": {
        "id": "7cV1z0d0rZrT",
        "colab_type": "text"
      },
      "source": [
        "**SVM (Kernel=RBF)**"
      ]
    },
    {
      "cell_type": "code",
      "metadata": {
        "id": "7NcELggLrcLb",
        "colab_type": "code",
        "colab": {
          "base_uri": "https://localhost:8080/",
          "height": 225
        },
        "outputId": "32b84b40-fa37-494d-ffad-3e14c7c82224"
      },
      "source": [
        "svm_model = svm.SVC(kernel='rbf')\n",
        "result = training_and_test(svm_model, X, y, list_train_test_skfold)    \n",
        "view_result(result, False)\n",
        "dic_metrics['svm=rbf'][0] = result[\"accuracy\"]\n",
        "dic_metrics['svm=rbf'][1] = result[\"recall\"]\n",
        "dic_metrics['svm=rbf'][2] = result[\"precision\"]"
      ],
      "execution_count": null,
      "outputs": [
        {
          "output_type": "stream",
          "text": [
            "Matriz acumulada\n",
            "\n",
            "0    1     <- classified as\n",
            "100  38       0: não\n",
            "18   147      1: sim\n",
            "\n",
            "\n",
            "Métricas\n",
            "\n",
            "Acurácia: 0.815\n",
            "Revocação: 0.891\n",
            "Precisão: 0.795\n"
          ],
          "name": "stdout"
        }
      ]
    },
    {
      "cell_type": "markdown",
      "metadata": {
        "id": "5_O5g7qfu35W",
        "colab_type": "text"
      },
      "source": [
        "# **Gráfico: Comparação das métricas** [[Ref](https://matplotlib.org/gallery/lines_bars_and_markers/barchart.html#sphx-glr-gallery-lines-bars-and-markers-barchart-py)]\n",
        "Parte extra"
      ]
    },
    {
      "cell_type": "code",
      "metadata": {
        "id": "s_RePd9eGdz-",
        "colab_type": "code",
        "colab": {
          "base_uri": "https://localhost:8080/",
          "height": 504
        },
        "outputId": "7be66103-2e19-4a8b-a521-ca34d01962b1"
      },
      "source": [
        "from matplotlib import pyplot as plt\n",
        "%matplotlib inline\n",
        "\n",
        "# define valores e intervalo do eixo-x\n",
        "algorithms_x = [\"KKN=3\", \"KKN=5\", \"KKN=7\", \"KKN=9\", \"SVM=Linear\", \"SVM=RBF\"]\n",
        "x_indexes = np.arange( len(algorithms_x) )\n",
        "\n",
        "# define valores do eixo-y\n",
        "accuracy_y = [dic_metrics['knn=3'][0], dic_metrics['knn=5'][0], dic_metrics['knn=7'][0], dic_metrics['knn=9'][0], dic_metrics['svm=linear'][0], dic_metrics['svm=rbf'][0]]\n",
        "recall_y = [dic_metrics['knn=3'][1],dic_metrics['knn=5'][1], dic_metrics['knn=7'][1], dic_metrics['knn=9'][1], dic_metrics['svm=linear'][1], dic_metrics['svm=rbf'][1]]\n",
        "precision_y = [dic_metrics['knn=3'][2], dic_metrics['knn=5'][2], dic_metrics['knn=7'][2], dic_metrics['knn=9'][2], dic_metrics['svm=linear'][2], dic_metrics['svm=rbf'][2]]\n",
        "\n",
        "# define lagura da barra\n",
        "column_width = 0.28\n",
        "\n",
        "fig, ax = plt.subplots()\n",
        "\n",
        "# adiciona as barras\n",
        "bar1 = ax.bar(x_indexes - column_width, accuracy_y, width=column_width, color=\"#444444\", label=\"Accuracy\")\n",
        "bar2 = ax.bar(x_indexes, recall_y, width=column_width, color=\"#008fd5\", label=\"Recall\")\n",
        "bar3 = ax.bar(x_indexes + column_width, precision_y, width=column_width, color=\"#e5ae38\", label=\"Precision\")\n",
        "\n",
        "# define o intervalo mínimo e máximo eixo-y\n",
        "plt.ylim(0.6, 1.0)\n",
        "\n",
        "# ajusta escala\n",
        "fig.subplots_adjust(top=0.55) \n",
        "\n",
        "# define tamanho da figura\n",
        "#plt.rcParams['figure.figsize'] = (80,80)\n",
        "plt.gcf().set_size_inches(12, 12)\n",
        "\n",
        "# define linha de grade\n",
        "plt.grid(color='0.65', linestyle='--', linewidth=1, alpha=0.4)\n",
        "\n",
        "# define legendas e titulos\n",
        "plt.legend(loc='upper center', bbox_to_anchor=(0.94, 1.2), shadow=True, ncol=1) # 1.1, 1.0\n",
        "plt.xticks(ticks=x_indexes, labels=algorithms_x)\n",
        "plt.title(\"RATING\", pad=35)\n",
        "plt.xlabel(\"Algorithms\",labelpad=10)\n",
        "plt.ylabel(\"Metrics\", labelpad=10)\n",
        "#ax.xaxis.tick_top()\n",
        "\n",
        "def autolabel(rects):\n",
        "    for rect in rects:\n",
        "        height = rect.get_height()\n",
        "        ax.annotate('{:.3f}'.format(round(height,3)),\n",
        "                    xy=(rect.get_x() + rect.get_width() / 2, height),\n",
        "                    xytext=(0, 3), \n",
        "                    textcoords=\"offset points\",\n",
        "                    ha='center', va='bottom')\n",
        "        \n",
        "# adiciona valores nas barras\n",
        "autolabel(bar1)\n",
        "autolabel(bar2)\n",
        "autolabel(bar3)\n",
        "\n",
        "plt.show()\n"
      ],
      "execution_count": null,
      "outputs": [
        {
          "output_type": "display_data",
          "data": {
            "image/png": "[encoded data removed]",
            "text/plain": [
              "<Figure size 864x864 with 1 Axes>"
            ]
          },
          "metadata": {
            "tags": [],
            "needs_background": "light"
          }
        }
      ]
    },
    {
      "cell_type": "code",
      "metadata": {
        "id": "RUdU4qp9r60p",
        "colab_type": "code",
        "colab": {}
      },
      "source": [
        ""
      ],
      "execution_count": null,
      "outputs": []
    }
  ]
}